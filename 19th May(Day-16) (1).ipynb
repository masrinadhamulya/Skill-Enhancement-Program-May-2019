{
 "cells": [
  {
   "cell_type": "markdown",
   "metadata": {},
   "source": [
    "# Problem Solving and Programing\n",
    "## Day:- 16\n",
    "## Date:- 19th May 2019\n",
    "## Day objectives:- To Solve the given problems"
   ]
  },
  {
   "cell_type": "markdown",
   "metadata": {},
   "source": [
    "## Problem 1:-\n",
    "#### Problem Statement:- \n",
    "* Consider the following algorithm to generate a sequence of numbers. Start with an\n",
    "  integer n. If n is even, divide by 2. If n is odd, multiply by 3 and add 1. Repeat this\n",
    "  process with the new value of n, terminating when n = 1. For example, the following\n",
    "  sequence of numbers will be generated for n = 22:\n",
    "*                  22 11 34 17 52 26 13 40 20 10 5 16 8 4 2 1\n",
    "* It is conjectured (but not yet proven) that this algorithm will terminate at n = 1 for\n",
    "  every integer n. Still, the conjecture holds for all integers up to at least 1, 000, 000.\n",
    "  For an input n, the cycle-length of n is the number of numbers generated up to and\n",
    "  including the 1. In the example above, the cycle length of 22 is 16. Given any two\n",
    "  numbers i and j, you are to determine the maximum cycle length over all numbers\n",
    "  between i and j, including both endpoints."
   ]
  },
  {
   "cell_type": "code",
   "execution_count": 15,
   "metadata": {},
   "outputs": [
    {
     "data": {
      "text/plain": [
       "174"
      ]
     },
     "execution_count": 15,
     "metadata": {},
     "output_type": "execute_result"
    }
   ],
   "source": [
    "def cyclelength(n):\n",
    "    length=1\n",
    "    while n!=1:\n",
    "        if n%2==0:\n",
    "            n=n/2\n",
    "        else:\n",
    "            n=3*n+1\n",
    "        length+=1\n",
    "    return length\n",
    "def mainsolution(i,j):\n",
    "    maxlen=0\n",
    "    for k in range(i,j+1):\n",
    "        length=cyclelength(k)\n",
    "        if maxlen<length:\n",
    "            maxlen=length\n",
    "    return maxlen\n",
    "mainsolution(900,1000)\n",
    "#cyclelength(10000000)"
   ]
  },
  {
   "cell_type": "code",
   "execution_count": 17,
   "metadata": {},
   "outputs": [
    {
     "data": {
      "text/plain": [
       "174"
      ]
     },
     "execution_count": 17,
     "metadata": {},
     "output_type": "execute_result"
    }
   ],
   "source": [
    "def cyclelength(n):\n",
    "    length=1\n",
    "    while n!=1:\n",
    "        if n%2==0:\n",
    "            n=n/2\n",
    "        else:\n",
    "            n=3*n+1\n",
    "        length+=1\n",
    "    return length\n",
    "def mainsolution(i,j):\n",
    "    return max(map(cyclelength,range(i,j+1)))\n",
    "mainsolution(900,1000)"
   ]
  },
  {
   "cell_type": "code",
   "execution_count": 20,
   "metadata": {},
   "outputs": [
    {
     "data": {
      "text/plain": [
       "89"
      ]
     },
     "execution_count": 20,
     "metadata": {},
     "output_type": "execute_result"
    }
   ],
   "source": [
    "def cyclelength(n):\n",
    "    length=1\n",
    "    while n!=1:\n",
    "        if n%2==0:\n",
    "            n=n/2\n",
    "        else:\n",
    "            n=3*n+1\n",
    "        length+=1\n",
    "    return length\n",
    "def mainsolution(i,j):\n",
    "    #return max(map(cyclelength,range(i,j+1)))\n",
    "    lenlist=[cyclelength(k) for k in range(i,j+1)]\n",
    "    return max(lenlist)\n",
    "mainsolution(201,210)"
   ]
  },
  {
   "cell_type": "code",
   "execution_count": null,
   "metadata": {},
   "outputs": [],
   "source": []
  }
 ],
 "metadata": {
  "kernelspec": {
   "display_name": "Python 3",
   "language": "python",
   "name": "python3"
  },
  "language_info": {
   "codemirror_mode": {
    "name": "ipython",
    "version": 3
   },
   "file_extension": ".py",
   "mimetype": "text/x-python",
   "name": "python",
   "nbconvert_exporter": "python",
   "pygments_lexer": "ipython3",
   "version": "3.7.3"
  }
 },
 "nbformat": 4,
 "nbformat_minor": 2
}
