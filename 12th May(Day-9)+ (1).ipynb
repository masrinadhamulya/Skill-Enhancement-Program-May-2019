{
 "cells": [
  {
   "cell_type": "markdown",
   "metadata": {},
   "source": [
    "# Problem Solving and Programing\n",
    "## Day:- 9\n",
    "## Date:- 12th May 2019\n",
    "## Day objectives:- To solve the given problem"
   ]
  },
  {
   "cell_type": "markdown",
   "metadata": {},
   "source": [
    "### Problem1\n",
    "#### Problem Statement:-\n",
    "You are given n words. Some words may repeat. For each word, output its number of occurrences. The output order should correspond with the input order of appearance of the word.\n",
    "\n",
    "First line of input contains the total number of words n. Next n lines contain words that need to processed.\n",
    "\n",
    "First line of the output should contain the total number distinct words. Second line of output must contain the frequency of words the same order of their appearance as in the input\n",
    "#### Test Cases:-\n",
    "* Sample Input : 6\n",
    "* abcd\n",
    "* ijkl\n",
    "* abcd\n",
    "* pqrs\n",
    "* abcd\n",
    "* ijkl\n",
    "##### outputs:-\n",
    "* 3 2 1"
   ]
  },
  {
   "cell_type": "code",
   "execution_count": 1,
   "metadata": {},
   "outputs": [
    {
     "name": "stdout",
     "output_type": "stream",
     "text": [
      "unique elements 5\n",
      "3  1  2  2  1  "
     ]
    }
   ],
   "source": [
    "def search(n,a):\n",
    "    count=1\n",
    "    count1=0\n",
    "    x=[]\n",
    "    x.append(a[0])\n",
    "    for i in range(1,n):\n",
    "        p=0\n",
    "        for j in range(0,len(x)):\n",
    "            if a[i]==x[j]:\n",
    "                p=p+1\n",
    "        if p==0:\n",
    "            x.append(a[i])\n",
    "            count=count+1\n",
    "    print('unique elements',count)\n",
    "    for i in range(0,len(x)):\n",
    "        for j in range(0,len(a)):\n",
    "            if x[i] == a[j]:\n",
    "                count1=count1+1\n",
    "        print(count1,end='  ')\n",
    "        count1=0\n",
    "\n",
    "search(9,['qwe','yy','qwe','tyy','qwe','lll','tyy','lkl','lll'])"
   ]
  },
  {
   "cell_type": "code",
   "execution_count": null,
   "metadata": {},
   "outputs": [],
   "source": []
  }
 ],
 "metadata": {
  "kernelspec": {
   "display_name": "Python 3",
   "language": "python",
   "name": "python3"
  },
  "language_info": {
   "codemirror_mode": {
    "name": "ipython",
    "version": 3
   },
   "file_extension": ".py",
   "mimetype": "text/x-python",
   "name": "python",
   "nbconvert_exporter": "python",
   "pygments_lexer": "ipython3",
   "version": "3.7.3"
  }
 },
 "nbformat": 4,
 "nbformat_minor": 2
}
