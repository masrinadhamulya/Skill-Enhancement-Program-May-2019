{
 "cells": [
  {
   "cell_type": "markdown",
   "metadata": {},
   "source": [
    "# Problem Solving and Programming\n",
    "## Day No- 7\n",
    "## Date- 10th May 2019\n",
    "## Day Objective- To Solve the given problems"
   ]
  },
  {
   "cell_type": "markdown",
   "metadata": {},
   "source": [
    "### Problem 1:\n",
    "#### Problem Statement:- Design a procedure calculate the maximum, minimum and average of N numbers\n",
    "\n",
    "#### Constraints:- the numbers will be in the range[1,1000000000000] \n",
    "\n",
    "#### Test Cases:- \n",
    "* data( a[1,2,3,4,5] ) -> Max = 5, Min = 1, Avg = 3"
   ]
  },
  {
   "cell_type": "code",
   "execution_count": 1,
   "metadata": {},
   "outputs": [
    {
     "name": "stdout",
     "output_type": "stream",
     "text": [
      "5\n",
      "1\n",
      "3\n"
     ]
    }
   ],
   "source": [
    "def MaxMinAvg(a):\n",
    "    print(max(a))\n",
    "    print(min(a))\n",
    "    avg=int((min(a)+max(a))/2)\n",
    "    print(avg)\n",
    "MaxMinAvg([1,2,3,4,5])"
   ]
  },
  {
   "cell_type": "markdown",
   "metadata": {},
   "source": [
    "### Problem 2:\n",
    "#### Problem Statement:- Design a procedure to calculate the squareroot of a number \"without using the math function sqrt\".\n",
    "\n",
    "#### Constraints:- the numbers will be in the range[1,1000000000000] \n",
    "\n",
    "#### Test Cases:- \n",
    "* Squareroot(36) -> 6"
   ]
  },
  {
   "cell_type": "code",
   "execution_count": 51,
   "metadata": {},
   "outputs": [
    {
     "name": "stdout",
     "output_type": "stream",
     "text": [
      "2.23606797749979\n",
      "6.0\n"
     ]
    }
   ],
   "source": [
    "def squareroot(n):\n",
    "    m=n**0.5\n",
    "    return m\n",
    "print(squareroot(5))\n",
    "print(squareroot(36))\n",
    "        "
   ]
  },
  {
   "cell_type": "markdown",
   "metadata": {},
   "source": [
    "### Problem 3:\n",
    "#### Problem Statement:- Fibonacci Series\n",
    "\n",
    "#### Constraints:- the numbers will be in the range[1,1000000000000] "
   ]
  },
  {
   "cell_type": "code",
   "execution_count": 5,
   "metadata": {},
   "outputs": [
    {
     "name": "stdout",
     "output_type": "stream",
     "text": [
      "0\n",
      "1\n",
      "1\n",
      "2\n",
      "3\n",
      "5\n",
      "8\n"
     ]
    }
   ],
   "source": [
    "def Fibonacci(n):\n",
    "    f1=0\n",
    "    f2=1\n",
    "    print(f1)\n",
    "    print(f2)\n",
    "    for i in range(2,n):        \n",
    "        f3=f1+f2\n",
    "        print(f3)\n",
    "        f1=f2\n",
    "        f2=f3\n",
    "Fibonacci(7)"
   ]
  },
  {
   "cell_type": "markdown",
   "metadata": {},
   "source": [
    "# Problem solving using Recursion\n",
    "### Definition:\n",
    "Function calling itself\n",
    "\n",
    "breakdown"
   ]
  },
  {
   "cell_type": "markdown",
   "metadata": {},
   "source": [
    "### Problem 4:-\n",
    "### Problem Statement:- Power Solution using 'Iteration' and 'Recursion' "
   ]
  },
  {
   "cell_type": "code",
   "execution_count": 21,
   "metadata": {},
   "outputs": [
    {
     "data": {
      "text/plain": [
       "1024"
      ]
     },
     "execution_count": 21,
     "metadata": {},
     "output_type": "execute_result"
    }
   ],
   "source": [
    "# Iterative solution\n",
    "def power(n,r):\n",
    "    prod=1\n",
    "    for i in range(1,r+1):           # power solution using Iteration\n",
    "        prod=prod*n\n",
    "    return prod\n",
    "power(2,10)"
   ]
  },
  {
   "cell_type": "code",
   "execution_count": 23,
   "metadata": {},
   "outputs": [
    {
     "data": {
      "text/plain": [
       "8"
      ]
     },
     "execution_count": 23,
     "metadata": {},
     "output_type": "execute_result"
    }
   ],
   "source": [
    "# Recursive solution\n",
    "def recursivePower(n,r):\n",
    "    if r==1:\n",
    "        return n                         # power solution using Recursion\n",
    "    else:\n",
    "        return recursivePower(n,r-1)*n\n",
    "recursivePower(2,3)"
   ]
  },
  {
   "cell_type": "markdown",
   "metadata": {},
   "source": [
    "### Problem 5:-\n",
    "### Problem Statement:- Factorial using 'Iteration' and 'Recursion'"
   ]
  },
  {
   "cell_type": "code",
   "execution_count": 53,
   "metadata": {},
   "outputs": [
    {
     "data": {
      "text/plain": [
       "120"
      ]
     },
     "execution_count": 53,
     "metadata": {},
     "output_type": "execute_result"
    }
   ],
   "source": [
    "# Iterative solution\n",
    "def factIterative(n):\n",
    "    fact=1\n",
    "    for i in range(n,1,-1):               # Factorial using Iteration\n",
    "        fact=fact*i\n",
    "    return fact\n",
    "factIterative(5)"
   ]
  },
  {
   "cell_type": "code",
   "execution_count": 49,
   "metadata": {},
   "outputs": [
    {
     "data": {
      "text/plain": [
       "120"
      ]
     },
     "execution_count": 49,
     "metadata": {},
     "output_type": "execute_result"
    }
   ],
   "source": [
    "# Recursive solution\n",
    "def factRecursive(n):\n",
    "    if n==1:\n",
    "        return n                            # Factorial using Recursion\n",
    "    else:\n",
    "        return factRecursive(n-1)*n\n",
    "factRecursive(5)"
   ]
  },
  {
   "cell_type": "markdown",
   "metadata": {},
   "source": [
    "### Problem 6:-\n",
    "### Problem Statement:- GCD solution using 'Iteration' and 'Recursion'"
   ]
  },
  {
   "cell_type": "code",
   "execution_count": 37,
   "metadata": {},
   "outputs": [
    {
     "data": {
      "text/plain": [
       "3"
      ]
     },
     "execution_count": 37,
     "metadata": {},
     "output_type": "execute_result"
    }
   ],
   "source": [
    "# Iterative solution\n",
    "def gcdIterative(a,b):\n",
    "    r=b%a\n",
    "    if r==0:\n",
    "        return a\n",
    "    while r!=0:                              # GCD solution using Iteration \n",
    "        r=b%a\n",
    "        b=a\n",
    "        a=r\n",
    "    return b\n",
    "gcdIterative(12,39)"
   ]
  },
  {
   "cell_type": "code",
   "execution_count": 35,
   "metadata": {},
   "outputs": [
    {
     "data": {
      "text/plain": [
       "3"
      ]
     },
     "execution_count": 35,
     "metadata": {},
     "output_type": "execute_result"
    }
   ],
   "source": [
    "# Recursive solution\n",
    "def gcdRecursive(a,b):\n",
    "    if b%a==0:\n",
    "        return a                            # GCD solution using Recursion\n",
    "    else:\n",
    "        return gcdRecursive(b%a,a)\n",
    "gcdRecursive(12,39)"
   ]
  },
  {
   "cell_type": "markdown",
   "metadata": {},
   "source": [
    "### Problem 7:-\n",
    "### Problem Statement:- Tower of Hanoi\n",
    "#### Explanation:-\n",
    "1. n-Disks:-\n",
    "          move n-1 disks from source to temp\n",
    "          move nth disk from source to dest\n",
    "          move n-1 disks from temp to dest\n",
    "2. 3-Disks:-\n",
    "          move 2 disks from source to temp\n",
    "          move 3rd disk from source to dest\n",
    "          move 2 disks from  temp to dest"
   ]
  },
  {
   "cell_type": "code",
   "execution_count": 44,
   "metadata": {},
   "outputs": [
    {
     "name": "stdout",
     "output_type": "stream",
     "text": [
      "Move 1 disk from A to C\n",
      "Move 2 disk from A to B\n",
      "Move 1 disk from C to B\n",
      "Move 3 disk from A to C\n",
      "Move 1 disk from B to A\n",
      "Move 2 disk from B to C\n",
      "Move 1 disk from A to C\n"
     ]
    }
   ],
   "source": [
    "def towersofHanoi(n,source,temp,dest):\n",
    "    if n==1:\n",
    "        print('Move',n,'disk from',source, 'to', dest)\n",
    "        return\n",
    "    else:\n",
    "        towersofHanoi(n-1,source,dest,temp)\n",
    "        print('Move',n,'disk from',source,'to',dest)\n",
    "        towersofHanoi(n-1,temp,source,dest)\n",
    "        return\n",
    "towersofHanoi(3,'A','B','C')\n",
    "    "
   ]
  },
  {
   "cell_type": "markdown",
   "metadata": {},
   "source": [
    "## Problem 8:-\n",
    "### Problem Statement:- Generate Nth fibonacci series using Recursion"
   ]
  },
  {
   "cell_type": "code",
   "execution_count": 54,
   "metadata": {},
   "outputs": [
    {
     "data": {
      "text/plain": [
       "1"
      ]
     },
     "execution_count": 54,
     "metadata": {},
     "output_type": "execute_result"
    }
   ],
   "source": [
    "def Nthfib(n):\n",
    "    if n==1:\n",
    "        return 0\n",
    "    if n==2:\n",
    "        return 1\n",
    "    else:\n",
    "        return (Nthfib(n-1)+Nthfib(n-2))\n",
    "Nthfib(3)\n",
    "    "
   ]
  },
  {
   "cell_type": "markdown",
   "metadata": {},
   "source": [
    "## Problem 8:-\n",
    "### Problem Statement:- First N prime numbers"
   ]
  },
  {
   "cell_type": "code",
   "execution_count": 55,
   "metadata": {},
   "outputs": [
    {
     "data": {
      "text/plain": [
       "True"
      ]
     },
     "execution_count": 55,
     "metadata": {},
     "output_type": "execute_result"
    }
   ],
   "source": [
    "def Prime(n):\n",
    "    count=0\n",
    "    for i in range(2,n):\n",
    "        if(n%i==0):\n",
    "            count=count+1\n",
    "    if count==0:\n",
    "        return True\n",
    "    else:\n",
    "        return False\n",
    "Prime(5)\n",
    "        "
   ]
  },
  {
   "cell_type": "code",
   "execution_count": 59,
   "metadata": {},
   "outputs": [
    {
     "name": "stdout",
     "output_type": "stream",
     "text": [
      "2 3 5 7 11 "
     ]
    }
   ],
   "source": [
    "def NPrime(n):\n",
    "    count=0\n",
    "    i=2\n",
    "    while(count!=n):\n",
    "        if(Prime(i)== True):\n",
    "            print(i,end=\" \")\n",
    "            count=count+1\n",
    "        i=i+1\n",
    "NPrime(5)"
   ]
  },
  {
   "cell_type": "code",
   "execution_count": null,
   "metadata": {},
   "outputs": [],
   "source": []
  }
 ],
 "metadata": {
  "kernelspec": {
   "display_name": "Python 3",
   "language": "python",
   "name": "python3"
  },
  "language_info": {
   "codemirror_mode": {
    "name": "ipython",
    "version": 3
   },
   "file_extension": ".py",
   "mimetype": "text/x-python",
   "name": "python",
   "nbconvert_exporter": "python",
   "pygments_lexer": "ipython3",
   "version": "3.7.3"
  }
 },
 "nbformat": 4,
 "nbformat_minor": 2
}
