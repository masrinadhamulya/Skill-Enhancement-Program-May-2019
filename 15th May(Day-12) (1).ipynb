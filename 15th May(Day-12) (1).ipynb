{
 "cells": [
  {
   "cell_type": "markdown",
   "metadata": {},
   "source": [
    "# Problem Solving and Programing\n",
    "## Day- 12\n",
    "## Date- 15th May 2019\n",
    "## Day objectives:-\n"
   ]
  },
  {
   "cell_type": "markdown",
   "metadata": {},
   "source": [
    "## Packages and Modules\n",
    "\n",
    "package - Collection on Python Scripts( .py)\n",
    "Module - A Python Script\n"
   ]
  },
  {
   "cell_type": "code",
   "execution_count": null,
   "metadata": {},
   "outputs": [],
   "source": [
    "# Numerical Functions\n",
    "from PythonScripts.numericalfunctions import factorial\n",
    "factorial(5)"
   ]
  },
  {
   "cell_type": "code",
   "execution_count": null,
   "metadata": {},
   "outputs": [],
   "source": [
    "# String Functions\n",
    "from PythonScripts.StringFunctions import alternateCharacters\n",
    "alternateCharacters('Python')"
   ]
  },
  {
   "cell_type": "markdown",
   "metadata": {},
   "source": [
    "## Regular Expression\n",
    "A set of values which will satisfy a given  "
   ]
  },
  {
   "cell_type": "code",
   "execution_count": null,
   "metadata": {},
   "outputs": [],
   "source": [
    "import re\n",
    "pattern='^g....'  # or =^g* or =^g.  # or only gmail then =^gmail$ \n",
    "domain='gmail'\n",
    "if re.match(pattern,domain):\n",
    "    print('Match')\n",
    "else:\n",
    "    print('Does not Match')"
   ]
  },
  {
   "cell_type": "code",
   "execution_count": null,
   "metadata": {},
   "outputs": [],
   "source": [
    "import re\n",
    "pattern='^[a-z]$'   # for n characters ='^[a-z]{n}$'\n",
    "domain='g'\n",
    "if re.match(pattern,domain):\n",
    "    print('Match')\n",
    "else:\n",
    "    print('Not a Match')"
   ]
  },
  {
   "cell_type": "code",
   "execution_count": null,
   "metadata": {},
   "outputs": [],
   "source": [
    "import re\n",
    "pattern='^[a-z]{3,9}$'\n",
    "domain='gmail'\n",
    "if re.match(pattern,domain):\n",
    "    print('Match')\n",
    "else:\n",
    "    print('Not a Match')"
   ]
  },
  {
   "cell_type": "markdown",
   "metadata": {},
   "source": [
    "### Problem 1:-\n",
    "#### Problem Statement:- Postal-Code Validation"
   ]
  },
  {
   "cell_type": "code",
   "execution_count": null,
   "metadata": {},
   "outputs": [],
   "source": [
    "import re\n",
    "postalcodevalidation='^[1-9][0-9]{5}$'\n",
    "code='500047'\n",
    "if re.match(postalcodevalidation,code):          # Postal-Code Validation:-\n",
    "    print('Match')\n",
    "else:\n",
    "    print('Not a Match')"
   ]
  },
  {
   "cell_type": "markdown",
   "metadata": {},
   "source": [
    "### Problem 2:-\n",
    "#### Problem Statement:- Phone-Number Validation"
   ]
  },
  {
   "cell_type": "code",
   "execution_count": null,
   "metadata": {},
   "outputs": [],
   "source": [
    "import re\n",
    "phonenumbervalidation='^[+][9][1][ ][6-9][0-9]{9}'\n",
    "number='+91 9100270967'\n",
    "if re.match(phonenumbervalidation,number):             # Phone-Number Validation:-\n",
    "    print('Match')\n",
    "else:\n",
    "    print('Not a Match')"
   ]
  },
  {
   "cell_type": "markdown",
   "metadata": {},
   "source": [
    "### Problem 3:-\n",
    "#### Problem Statement:- \n",
    "Define a function to validate email addresses based on the following rules.\n",
    "#### Explanation:-\n",
    "* Email should be in the format username@domain.extension\n",
    "* username must start with an alphabet and can contain lowercase alphabet, digits, hyphen(-) and underscores( _ ).\n",
    "* username must not contain special characters, uppercase letters, whitespaces.\n",
    "* Length of username must be in the range (6, 16)\n",
    "* Domain can only contain lowercase alphabet and digits with length in range (3, 10) . No special characters are allowed\n",
    "* Extension can only contain lower case alphabet and its length must be in the range (2, 4)\n",
    "#### Test Cases:-\n",
    "* abc456@gmail.com\n",
    "* 456abc@yahoo.com\n",
    "* abc_456@gitam.ed1\n",
    "* abc-456@abc-d.in\n",
    "* python@python.edu\n",
    "* abc 456@edu.edu\n",
    "##### outputs:-\n",
    "* Valid\n",
    "* Invalid\n",
    "* Invalid\n",
    "* Invalid\n",
    "* Valid\n",
    "* Invalid"
   ]
  },
  {
   "cell_type": "code",
   "execution_count": null,
   "metadata": {},
   "outputs": [],
   "source": [
    "import re\n",
    "emailvalidation='^[a-z][a-z0-9_.-]{5,13}[a-z0-9][@][0-9a-z]{3,9}[.][a-z]{2,3}$'\n",
    "id='ec4221710404031@gitam.com'\n",
    "if re.match(emailvalidation,id):                        # E-mail validation:-\n",
    "    print('Match')\n",
    "else:\n",
    "    print('Not a Match')"
   ]
  },
  {
   "cell_type": "markdown",
   "metadata": {},
   "source": [
    "### Problem 4:-\n",
    "#### Problem Statement:- \n",
    "Define a function to validate email addresses based on the following rules.\n",
    "#### Explanation:-\n",
    "* should contain atleast one uppercase letter\n",
    "* length in the range(6,21)\n",
    "* should contain atleast one special character\n",
    "* should start with an uppercase or a lower case\n",
    "* should contain atleast one digit"
   ]
  },
  {
   "cell_type": "code",
   "execution_count": null,
   "metadata": {},
   "outputs": [],
   "source": []
  },
  {
   "cell_type": "markdown",
   "metadata": {},
   "source": [
    "## Iterators in Python:-\n",
    "lists , tuples , strings"
   ]
  },
  {
   "cell_type": "code",
   "execution_count": 9,
   "metadata": {},
   "outputs": [
    {
     "name": "stdout",
     "output_type": "stream",
     "text": [
      "1\n",
      "2\n",
      "3\n",
      "4\n",
      "5\n",
      "6\n"
     ]
    },
    {
     "data": {
      "text/plain": [
       "4"
      ]
     },
     "execution_count": 9,
     "metadata": {},
     "output_type": "execute_result"
    }
   ],
   "source": [
    "li=[1,2,3,4,5,6]\n",
    "for i in li:\n",
    "    print(i)\n",
    "type(li)\n",
    "it=iter(li)\n",
    "type(it)\n",
    "next(it)\n",
    "next(it)\n",
    "next(it)\n",
    "next(it)"
   ]
  },
  {
   "cell_type": "markdown",
   "metadata": {},
   "source": [
    "## Generators in Python:-"
   ]
  },
  {
   "cell_type": "code",
   "execution_count": 11,
   "metadata": {},
   "outputs": [
    {
     "name": "stdout",
     "output_type": "stream",
     "text": [
      "1 8 27 64 125 216 343 512 729 1000 "
     ]
    }
   ],
   "source": [
    "li=[i**3 for i in range(1,10)]\n",
    "li\n",
    "gn=(i**3 for i in range(1,11))\n",
    "for i in gn:\n",
    "    print(i,end=' ')"
   ]
  },
  {
   "cell_type": "code",
   "execution_count": null,
   "metadata": {},
   "outputs": [],
   "source": []
  }
 ],
 "metadata": {
  "kernelspec": {
   "display_name": "Python 3",
   "language": "python",
   "name": "python3"
  },
  "language_info": {
   "codemirror_mode": {
    "name": "ipython",
    "version": 3
   },
   "file_extension": ".py",
   "mimetype": "text/x-python",
   "name": "python",
   "nbconvert_exporter": "python",
   "pygments_lexer": "ipython3",
   "version": "3.7.3"
  }
 },
 "nbformat": 4,
 "nbformat_minor": 2
}
