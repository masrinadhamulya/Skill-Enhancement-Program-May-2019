{
 "cells": [
  {
   "cell_type": "markdown",
   "metadata": {},
   "source": [
    "# Problem Solving and Programing\n",
    "## Day:- 18\n",
    "## Date:- 21st May 2019\n",
    "## Day objectives:- To solve the given problems"
   ]
  },
  {
   "cell_type": "markdown",
   "metadata": {},
   "source": [
    "## Problem 1:-\n",
    "### Problem Statement:- \n",
    "Binary Search"
   ]
  },
  {
   "cell_type": "code",
   "execution_count": 6,
   "metadata": {},
   "outputs": [
    {
     "data": {
      "text/plain": [
       "2"
      ]
     },
     "execution_count": 6,
     "metadata": {},
     "output_type": "execute_result"
    }
   ],
   "source": [
    "def binarySearch(arr,leftindex,rightindex,taritem):\n",
    "    while leftindex<=rightindex:\n",
    "        midindex=leftindex+(rightindex-leftindex)//2\n",
    "        if arr[midindex]==taritem:\n",
    "            return midindex\n",
    "        if arr[midindex]>taritem:\n",
    "            rightindex=midindex-1\n",
    "        else:\n",
    "            leftindex=midindex+1\n",
    "            \n",
    "    return -1\n",
    "arr=[1,12,25,45,57,99]\n",
    "binarySearch(arr,0,5,25)"
   ]
  },
  {
   "cell_type": "code",
   "execution_count": null,
   "metadata": {},
   "outputs": [],
   "source": []
  }
 ],
 "metadata": {
  "kernelspec": {
   "display_name": "Python 3",
   "language": "python",
   "name": "python3"
  },
  "language_info": {
   "codemirror_mode": {
    "name": "ipython",
    "version": 3
   },
   "file_extension": ".py",
   "mimetype": "text/x-python",
   "name": "python",
   "nbconvert_exporter": "python",
   "pygments_lexer": "ipython3",
   "version": "3.7.3"
  }
 },
 "nbformat": 4,
 "nbformat_minor": 2
}
