{
 "cells": [
  {
   "cell_type": "markdown",
   "metadata": {},
   "source": [
    "# Problem Solving and Programming\n",
    "\n",
    "## Day No:- 6\n",
    "## Date:- May-9(2019)\n",
    "## Day Objectives-\n",
    "1. Objective 1\n",
    "2. Objective 2\n",
    "3. Objective 3"
   ]
  },
  {
   "cell_type": "markdown",
   "metadata": {},
   "source": [
    "## Problem 1:-\n",
    "### Problem Statement:- Greet user"
   ]
  },
  {
   "cell_type": "code",
   "execution_count": null,
   "metadata": {},
   "outputs": [],
   "source": [
    "print('Hello PYTHON')"
   ]
  },
  {
   "cell_type": "markdown",
   "metadata": {},
   "source": [
    "## Problem 2:-\n",
    "### Problem Statement:- Greeting a Specific user"
   ]
  },
  {
   "cell_type": "code",
   "execution_count": null,
   "metadata": {},
   "outputs": [],
   "source": [
    "a =input(\"Enter the User name\")\n",
    "print(f'Hello {a}')\n"
   ]
  },
  {
   "cell_type": "markdown",
   "metadata": {},
   "source": [
    "## Problem 3:-\n",
    "### Problem Statement:- Arithmetic Operation"
   ]
  },
  {
   "cell_type": "code",
   "execution_count": null,
   "metadata": {},
   "outputs": [],
   "source": [
    "a = int(input('Enter a'))\n",
    "b = int(input('Enter b'))\n",
    "sum = a+b\n",
    "sub = a-b\n",
    "mul = a*b\n",
    "div = a/b\n",
    "mod = a%b\n",
    "print(f'Sum is {sum}')\n",
    "print(f'subtraction is {sub}')\n",
    "print(f'Multiplication is {mul}')\n",
    "print(f'Division is {div}')\n",
    "print(f'Modulus is {mod}')\n"
   ]
  },
  {
   "cell_type": "markdown",
   "metadata": {},
   "source": [
    "## Problem 4:-\n",
    "### Problem Statement:- To check the given number is 'Even' or 'Odd' "
   ]
  },
  {
   "cell_type": "code",
   "execution_count": null,
   "metadata": {},
   "outputs": [],
   "source": [
    "a = int(input('Enter the number'))\n",
    "if(a%2==0):\n",
    "    print(f'{a} is an Even number')\n",
    "else:\n",
    "    print(f'{a} is an Odd number')"
   ]
  },
  {
   "cell_type": "markdown",
   "metadata": {},
   "source": [
    "## Problem 5:-\n",
    "### Problem Statement:- Finding the greatest of 3 numbers"
   ]
  },
  {
   "cell_type": "code",
   "execution_count": null,
   "metadata": {},
   "outputs": [],
   "source": [
    "a = int(input('Enter the number'))\n",
    "b = int(input('Enter the number'))\n",
    "c = int(input('Enter the number'))\n",
    "if(a>b and a>c):\n",
    "    print(f'{a} is the greatest number')\n",
    "elif(b>a and b>c):\n",
    "          print(f'{b} is the greatest number')\n",
    "else:\n",
    "    print(f'{c} is the greatest number')            "
   ]
  },
  {
   "cell_type": "markdown",
   "metadata": {},
   "source": [
    "## Problem 6:-\n",
    "### Problem Statement:- Testing Divisibility with 2 and 3 but not 4"
   ]
  },
  {
   "cell_type": "code",
   "execution_count": null,
   "metadata": {},
   "outputs": [],
   "source": [
    "def checkDivisibility(n):\n",
    "    if(n%2==0 and n%3==0 and n%4!=0):\n",
    "        return True\n",
    "    else:\n",
    "        return False\n",
    "checkDivisibility(12)\n",
    "    "
   ]
  },
  {
   "cell_type": "markdown",
   "metadata": {},
   "source": [
    "## Problem 7:-\n",
    "### Problem Statement:-   Given 2 int values, return True if one is negative and one is positive. Except if the                                                          parameter \"negative\" is True, then return True only if both are negative.\n",
    "### constraints:- Given numbers will be in the range [1,1000000000]\n",
    "### Test Cases:-\n",
    "* pos_neg(1, -1, False) → True\n",
    "* pos_neg(-1, 1, False) → True\n",
    "* pos_neg(-4, -5, True) → True\n",
    "* pos_neg(-1, 1,True) -> False\n",
    "* pos_neg(4, 6, False) -> False\n",
    "* pos_neg(-1, -6, False) ->  False\n",
    "\n"
   ]
  },
  {
   "cell_type": "code",
   "execution_count": null,
   "metadata": {},
   "outputs": [],
   "source": [
    "def pos_neg(n1,n2,b):    \n",
    "    if ((n1<0 and n2>0 and b==False) or (n1>0 and n2<0 and b==False) or (n1<0 and n2<0 and b==True)):\n",
    "        return True\n",
    "    else:\n",
    "        return False\n",
    "print(pos_neg(1, -1, False))\n",
    "print(pos_neg(-1, 1, False))\n",
    "print(pos_neg(-4, -5, True))\n",
    "print(pos_neg(-1, 1,True))\n",
    "print(pos_neg(4, 6, False))\n",
    "print(pos_neg(-1, -6, False))"
   ]
  },
  {
   "cell_type": "code",
   "execution_count": null,
   "metadata": {},
   "outputs": [],
   "source": [
    "def pos_neg(n1,n2,b):    \n",
    "    return (n1<0 and n2>0 and b==False) or (n1>0 and n2<0 and b==False) or (n1<0 and n2<0 and b==True)\n",
    "\n",
    "print(pos_neg(1, -1, False))\n",
    "print(pos_neg(-1, 1, False))\n",
    "print(pos_neg(-4, -5, True))\n",
    "print(pos_neg(-1, 1,True))\n",
    "print(pos_neg(4, 6, False))\n",
    "print(pos_neg(-1, -6, False))"
   ]
  },
  {
   "cell_type": "markdown",
   "metadata": {},
   "source": [
    "## Problem 8:-\n",
    "### Problem Statement:- Given 2 ints, a and b, return True if one if them is 10 or if their sum is 10.\n",
    "### constraints:- Given numbers will be in the range [1,1000000000]\n",
    "### Test Cases:- \n",
    "* makes10(9, 10) → True\n",
    "* makes10(9, 9) → False\n",
    "* makes10(1, 9) → True\n"
   ]
  },
  {
   "cell_type": "code",
   "execution_count": null,
   "metadata": {},
   "outputs": [],
   "source": [
    "def makes10(n1,n2):\n",
    "    if((n1==10 or n2==10) or (n1==10 and n2==10) or (n1+n2==10)):\n",
    "        return True\n",
    "    else:\n",
    "        return False\n",
    "print(makes10(9, 10))\n",
    "print(makes10(9, 9))\n",
    "print(makes10(1, 9))\n"
   ]
  },
  {
   "cell_type": "markdown",
   "metadata": {},
   "source": [
    "## Problem 9:-\n",
    "### Problem Statement:- Create a Random Number Generator as a Procedure which takes the Range(lb, ub) and returns a Random number in the given range\n",
    "### constraints:- Given numbers will be in the range [1,1000000000]\n",
    "### Test Cases:-\n",
    "* RandomGenerator(1,100) -> will be in range (1,100)\n"
   ]
  },
  {
   "cell_type": "code",
   "execution_count": null,
   "metadata": {},
   "outputs": [],
   "source": [
    "import random\n",
    "def randomGenerator(lb,ub):\n",
    "    return random.randrange(lb+1,ub)\n",
    "    \n",
    "randomGenerator(1,101)"
   ]
  },
  {
   "cell_type": "code",
   "execution_count": null,
   "metadata": {},
   "outputs": [],
   "source": [
    "from random import randrange\n",
    "def randomGenerator(lb,ub):\n",
    "    return randrange(lb+1,ub)\n",
    "    \n",
    "randomGenerator(1,101)"
   ]
  },
  {
   "cell_type": "markdown",
   "metadata": {},
   "source": [
    "## Problem 10:-\n",
    "### Problem Statement:- Given an integer N,Calculate the sum of N random numbers in the range [0,1000000000000000]\n",
    "### constraints:- Given numbers will be in the range [1,1000000000000000]\n",
    "### Test Cases:-\n",
    "* RandomGenerator(1,100) -> will be in range (1,100)"
   ]
  },
  {
   "cell_type": "code",
   "execution_count": 11,
   "metadata": {},
   "outputs": [
    {
     "data": {
      "text/plain": [
       "55743668507803323"
      ]
     },
     "execution_count": 11,
     "metadata": {},
     "output_type": "execute_result"
    }
   ],
   "source": [
    "import random\n",
    "def sumRandomNumbers(n,lb,ub):\n",
    "    sum=0\n",
    "    for count in range(1,n+1):\n",
    "        sum=sum+ random.randint(lb,ub)\n",
    "    return sum\n",
    "\n",
    "sumRandomNumbers(100,0,1000000000000000)"
   ]
  },
  {
   "cell_type": "markdown",
   "metadata": {},
   "source": [
    "## Problem 11:-\n",
    "### Problem Statement:- Design a procedure to perform Linear search on list of N unsorted unique numbers. It take an array and the key element to be searched and returns the index of the element of key element if found. Else returns -1\n",
    "### constraints:- Given numbers will be in the range [1,1000000000]\n",
    "### Test Cases:-\n",
    "* LinearSearch([1,2,8,0,3,5,6], 3) -> 4\n",
    "* LinearSearch([15,12,9,6,3,-3], 0) -> -1\n",
    "* linearsearch([321,543,567,789],567 -> 2\n"
   ]
  },
  {
   "cell_type": "code",
   "execution_count": 12,
   "metadata": {},
   "outputs": [
    {
     "data": {
      "text/plain": [
       "True"
      ]
     },
     "execution_count": 12,
     "metadata": {},
     "output_type": "execute_result"
    }
   ],
   "source": [
    "a=[1,4,8,0,3,5,6]\n",
    "0 in a"
   ]
  },
  {
   "cell_type": "code",
   "execution_count": 13,
   "metadata": {},
   "outputs": [
    {
     "data": {
      "text/plain": [
       "True"
      ]
     },
     "execution_count": 13,
     "metadata": {},
     "output_type": "execute_result"
    }
   ],
   "source": [
    "b=[15,16,9,6,3,-3]\n",
    "-3 in b"
   ]
  },
  {
   "cell_type": "code",
   "execution_count": 16,
   "metadata": {},
   "outputs": [
    {
     "name": "stdout",
     "output_type": "stream",
     "text": [
      "-1\n",
      "2\n",
      "1\n"
     ]
    }
   ],
   "source": [
    "\n",
    "def linearsearch(a,key):\n",
    "    for i in range(0,len(a)):\n",
    "        if(a[i]==key):\n",
    "            return i\n",
    "    return -1\n",
    "print(linearsearch([15,12,9,3,-3],0))\n",
    "print(linearsearch([15,12,9,6,3,-3],9))\n",
    "print(linearsearch([15,3,9,6,3,-3],3))\n",
    "        "
   ]
  },
  {
   "cell_type": "markdown",
   "metadata": {},
   "source": [
    "## Problem 12:-\n",
    "### Problem Statement:- Given an int n, return True if it is within 10 of 100 or 200. Note: abs(num) computes the absolute value of a number.\n",
    "### constraints:- Given numbers will be in the range [1,1000000000]\n",
    "### Test Cases:-\n",
    "* near_hundred(93) → True\n",
    "* near_hundred(90) → True\n",
    "* near_hundred(89) → False"
   ]
  },
  {
   "cell_type": "code",
   "execution_count": 22,
   "metadata": {},
   "outputs": [
    {
     "name": "stdout",
     "output_type": "stream",
     "text": [
      "True\n",
      "False\n",
      "False\n"
     ]
    }
   ],
   "source": [
    "def near_hundred(a):\n",
    "    if((a>90 and a<110)or(a>190 and a<210)):\n",
    "        return True\n",
    "    else:\n",
    "        return False\n",
    "print(near_hundred(193))\n",
    "print(near_hundred(90))\n",
    "print(near_hundred(89))"
   ]
  },
  {
   "cell_type": "markdown",
   "metadata": {},
   "source": [
    "## Problem 13:-\n",
    "### Problem Statement:- Designing procedures for Basic Arithmetic operations"
   ]
  },
  {
   "cell_type": "code",
   "execution_count": 23,
   "metadata": {},
   "outputs": [
    {
     "name": "stdout",
     "output_type": "stream",
     "text": [
      "Sum=9\n",
      "sub=1\n",
      "mul=20\n",
      "div=1.25\n",
      "mod=1\n"
     ]
    }
   ],
   "source": [
    "def Ari_op(a,b):\n",
    "    add =a+b\n",
    "    sub =a-b\n",
    "    mul=a*b\n",
    "    div=a/b\n",
    "    mod=a%b\n",
    "    print(f'Sum={add}')\n",
    "    print(f'sub={sub}')\n",
    "    print(f'mul={mul}')\n",
    "    print(f'div={div}')\n",
    "    print(f'mod={mod}')\n",
    "Ari_op(5,4)"
   ]
  },
  {
   "cell_type": "markdown",
   "metadata": {},
   "source": [
    "## Problem 14:-\n",
    "### Problem Statement:- Procedure to print N natural numbers."
   ]
  },
  {
   "cell_type": "code",
   "execution_count": 34,
   "metadata": {},
   "outputs": [
    {
     "name": "stdout",
     "output_type": "stream",
     "text": [
      "1 2 3 4 5 6 7 8 9 10 11 12 13 14 15 16 17 18 19 20 "
     ]
    }
   ],
   "source": [
    "def na_nu(n):\n",
    "    for i in range(1,n+1):\n",
    "        print(i ,end= \" \")\n",
    "na_nu(20)"
   ]
  },
  {
   "cell_type": "markdown",
   "metadata": {},
   "source": [
    "## Problem 15:-\n",
    "### Problem Statement:- Procedure to calculate the factorial of a given number"
   ]
  },
  {
   "cell_type": "code",
   "execution_count": 41,
   "metadata": {},
   "outputs": [
    {
     "data": {
      "text/plain": [
       "720"
      ]
     },
     "execution_count": 41,
     "metadata": {},
     "output_type": "execute_result"
    }
   ],
   "source": [
    "def factorial(n):\n",
    "    fact = 1\n",
    "    for i in range(n,0,-1):\n",
    "        fact = fact*i\n",
    "    return fact\n",
    "factorial(6)\n",
    "        "
   ]
  },
  {
   "cell_type": "markdown",
   "metadata": {},
   "source": [
    "## Problem 16:-\n",
    "### Problem Statement:- To evaluate the polynomial\n",
    "f(x)= x^3 + 2 X^2 + 3 X - 10\n",
    "### Constraint:-  x in the range [1, 1000]"
   ]
  },
  {
   "cell_type": "code",
   "execution_count": 46,
   "metadata": {},
   "outputs": [
    {
     "data": {
      "text/plain": [
       "-4"
      ]
     },
     "execution_count": 46,
     "metadata": {},
     "output_type": "execute_result"
    }
   ],
   "source": [
    "def Evaluate(x):\n",
    "    f=x**3+2*x**2+3*x-10\n",
    "    return f\n",
    "Evaluate(1)\n",
    "    "
   ]
  },
  {
   "cell_type": "markdown",
   "metadata": {},
   "source": [
    "## Problem 17:-\n",
    "### Problem Statement:- Design a procedure to determine if a given string is a Palindrome\n",
    "### Test cases:-\n",
    "* Palindrome(\"racecar\")\n",
    "* Palindrome(\"raptor\")"
   ]
  },
  {
   "cell_type": "code",
   "execution_count": 54,
   "metadata": {},
   "outputs": [
    {
     "data": {
      "text/plain": [
       "True"
      ]
     },
     "execution_count": 54,
     "metadata": {},
     "output_type": "execute_result"
    }
   ],
   "source": [
    "def palindrome(s):\n",
    "    rs = s[ : :1]\n",
    "    if(s == rs):\n",
    "        return True\n",
    "    return False\n",
    "palindrome('racecar')"
   ]
  },
  {
   "cell_type": "markdown",
   "metadata": {},
   "source": [
    "## Problem 18:-\n",
    "### Problem Statement:-  Procedure to generate multiplication tables. \n",
    "### Test case:-\n",
    "* MT(3, 5, 7) -> 3 X 5 = 15\n",
    "\n",
    "                 3 X 6 = 18\n",
    "\n",
    "                 3 X 7 = 21"
   ]
  },
  {
   "cell_type": "code",
   "execution_count": 60,
   "metadata": {},
   "outputs": [
    {
     "name": "stdout",
     "output_type": "stream",
     "text": [
      "3*5=15\n",
      "3*6=18\n",
      "3*7=21\n"
     ]
    }
   ],
   "source": [
    "def Mul_tab(tablename,lb,ub):\n",
    "    for i in range(lb,ub+1):\n",
    "        print(f'{tablename}*{i}={tablename*i}')\n",
    "    return\n",
    "Mul_tab(3,5,7)"
   ]
  },
  {
   "cell_type": "markdown",
   "metadata": {},
   "source": [
    "## Problem 19:-\n",
    "### Problem Statement:- Procedure to print the list of factors of a given number.\n",
    "### Test case:-\n",
    "* FactorList(6)  ->  1 2 3 6\n",
    "* FactorList (9) ->   1 3 9\n",
    "* FactorList (19) ->  1  19"
   ]
  },
  {
   "cell_type": "code",
   "execution_count": 62,
   "metadata": {},
   "outputs": [
    {
     "name": "stdout",
     "output_type": "stream",
     "text": [
      "1 2 3 6 "
     ]
    }
   ],
   "source": [
    "def Factors(n):\n",
    "    for i in range(1,n+1):\n",
    "        if(n%i==0):\n",
    "            print(i,end=\" \")\n",
    "    return\n",
    "Factors(6)"
   ]
  },
  {
   "cell_type": "markdown",
   "metadata": {},
   "source": [
    "## Problem 20:-\n",
    "### Problem Statement:-  Procedure to check if a given number is Prime and returns a Boolean value.\n",
    "### Test case:-\n",
    "* IsPrime(7) -> True\n",
    "*  IsPrime(9) ->  False"
   ]
  },
  {
   "cell_type": "code",
   "execution_count": 65,
   "metadata": {},
   "outputs": [
    {
     "data": {
      "text/plain": [
       "True"
      ]
     },
     "execution_count": 65,
     "metadata": {},
     "output_type": "execute_result"
    }
   ],
   "source": [
    "def Prime(n):\n",
    "    count=0\n",
    "    for i in range(2,n):\n",
    "            if(n%i==0):\n",
    "                count=count+1\n",
    "    if (count==0):\n",
    "        return True\n",
    "    else:\n",
    "        return False\n",
    "    \n",
    "Prime(7)\n",
    "    "
   ]
  },
  {
   "cell_type": "markdown",
   "metadata": {},
   "source": [
    "## Problem 21:-\n",
    "### Problem Statement:-  Procedure to count the number of digits in a given number.\n",
    "### Test case:-\n",
    "*  CountDigits(123456) ->  6\n",
    "*   CountDigits (0) ->  1"
   ]
  },
  {
   "cell_type": "code",
   "execution_count": 66,
   "metadata": {},
   "outputs": [
    {
     "name": "stdout",
     "output_type": "stream",
     "text": [
      "1\n",
      "6\n"
     ]
    }
   ],
   "source": [
    "def countdigits(n):\n",
    "    count=0\n",
    "    if n==0:\n",
    "        return 1\n",
    "    while(n>0):\n",
    "        count=count+1\n",
    "        n=int(n/10)\n",
    "    return count\n",
    "\n",
    "print(countdigits(0))\n",
    "print(countdigits(123456))"
   ]
  },
  {
   "cell_type": "markdown",
   "metadata": {},
   "source": [
    "## Problem 22:-\n",
    "### Problem Statement:-  Procedure to check if a given number is a Perfect Number. ( Perfect number is a number for which the sum of all it's divisors is equal to the number itself)\n",
    "### Test case:-\n",
    "* IsPerfect(3) -> False\n",
    "*  IsPerfect (6) -> True"
   ]
  },
  {
   "cell_type": "code",
   "execution_count": 8,
   "metadata": {},
   "outputs": [
    {
     "data": {
      "text/plain": [
       "True"
      ]
     },
     "execution_count": 8,
     "metadata": {},
     "output_type": "execute_result"
    }
   ],
   "source": [
    "def perfectnumber(n):\n",
    "    sum=0\n",
    "    for i in range(1,int(n/2)+1):\n",
    "        if(n%i==0):\n",
    "            sum=sum+i\n",
    "    if sum==n:\n",
    "        return True\n",
    "    else:\n",
    "        return False\n",
    "perfectnumber(6)"
   ]
  },
  {
   "cell_type": "markdown",
   "metadata": {},
   "source": [
    "## Problem 23:-\n",
    "### Problem Statement:-  Procedure to generate the first N perfect numbers. \n",
    "### Test case:-\n",
    "* GeneratePerfect(2) ->  6   28\n",
    "* GeneratePerfect (4) ->  6   28   496    8128"
   ]
  },
  {
   "cell_type": "code",
   "execution_count": 11,
   "metadata": {},
   "outputs": [
    {
     "name": "stdout",
     "output_type": "stream",
     "text": [
      "6\n",
      "28\n",
      "496\n",
      "8128\n"
     ]
    }
   ],
   "source": [
    "def GeneratePerfect(n):\n",
    "    count=0\n",
    "    i=1\n",
    "    while count!=n:\n",
    "        if(perfectnumber(i)==True):\n",
    "            count = count+1\n",
    "            print(i)\n",
    "        i=i+1\n",
    "GeneratePerfect(4)"
   ]
  },
  {
   "cell_type": "code",
   "execution_count": null,
   "metadata": {},
   "outputs": [],
   "source": []
  }
 ],
 "metadata": {
  "kernelspec": {
   "display_name": "Python 3",
   "language": "python",
   "name": "python3"
  },
  "language_info": {
   "codemirror_mode": {
    "name": "ipython",
    "version": 3
   },
   "file_extension": ".py",
   "mimetype": "text/x-python",
   "name": "python",
   "nbconvert_exporter": "python",
   "pygments_lexer": "ipython3",
   "version": "3.7.3"
  }
 },
 "nbformat": 4,
 "nbformat_minor": 2
}
