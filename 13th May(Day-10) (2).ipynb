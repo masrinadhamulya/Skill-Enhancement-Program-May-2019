{
 "cells": [
  {
   "cell_type": "markdown",
   "metadata": {},
   "source": [
    "# Problem Solving and Programing\n",
    "## Day:- 10\n",
    "## Date:- 13th May 2019\n",
    "## Day objectives:- To solve the given problems"
   ]
  },
  {
   "cell_type": "markdown",
   "metadata": {},
   "source": [
    "### Problem 1:- \n",
    "### Problem Statement:- \n",
    "   Design a Python script to determine the difference in date for given two dates in YYYY:MM:DD format(0 <= YYYY <= 9999, 1 <= MM <= 12, 1 <= DD <= 31) following the leap year rules. Return the total number of days existing between the two dates.\n",
    "### Test Cases:-\n",
    "* dateDifference('2019:05:10', '2019:05:01') -> 9\n",
    "* dateDifference('0003:03:03', '0003:06:06') -> 95"
   ]
  },
  {
   "cell_type": "code",
   "execution_count": 4,
   "metadata": {},
   "outputs": [
    {
     "data": {
      "text/plain": [
       "731"
      ]
     },
     "execution_count": 4,
     "metadata": {},
     "output_type": "execute_result"
    }
   ],
   "source": [
    "def datedifference(date1,date2):\n",
    "    if yearfromdate(date1)==yearfromdate(date2):\n",
    "        return abs(totaldaysfordate(date1)- totaldaysfordate(date2))\n",
    "    elif yearfromdate(date2) - yearfromdate(date1) == 1:\n",
    "        return  totaldaysdateendyear(date1)+ totaldaysfordate(date2)\n",
    "    else:\n",
    "        sum=totaldaysdateendyear(date1)+ totaldaysfordate(date2)\n",
    "        year1=yearfromdate(date1)\n",
    "        year2=yearfromdate(date2)\n",
    "        for i in range(year1+1,year2):\n",
    "            sum+=numdaysinyear(i)\n",
    "        return sum\n",
    "        \n",
    "def daysinfeb(year):\n",
    "    if(year% 400 ==0) or (year%100!=0 and year% 4 ==0):\n",
    "        return 29\n",
    "    return 28\n",
    "def numdaysinmonth(month,year):\n",
    "    monthDays={'01':31,'03':31,'04':30,'05':31,'06':30,'07':31,'08':31,'09':30,'10':31,'11':30,'12':31}\n",
    "    if month==2:\n",
    "        return daysinfeb(year)\n",
    "    elif (month<=7 and month!=2 and month%2==0) or (month>7 and month%2!=0):\n",
    "        return 30\n",
    "    else:\n",
    "        return 31\n",
    "def numdaysinyear(year):\n",
    "    if daysinfeb(year)==29:\n",
    "        return 366\n",
    "    else:\n",
    "        return 365\n",
    "def totaldaysfordate(date):\n",
    "    year=yearfromdate(date) ##extract year as an integer\n",
    "    month=monthfromdate(date) ##extract the month as an integer\n",
    "    day=daysfromdate(date) ##extract the day as an integer\n",
    "    sum=0\n",
    "    for i in range(1,month):\n",
    "        sum=sum+ numdaysinmonth(i,year)\n",
    "    sum+=day\n",
    "    return sum\n",
    "\n",
    "def yearfromdate(date):\n",
    "    return int(date[:4])\n",
    "def monthfromdate(date):\n",
    "    return int(date[5:7])\n",
    "def daysfromdate(date):\n",
    "    return int(date[len(date)-2:])\n",
    "\n",
    "def totaldaysdateendyear(date):\n",
    "    year=yearfromdate(date) ##extract year as an integer\n",
    "    month=monthfromdate(date) ##extract the month as an integer\n",
    "    day=daysfromdate(date) ##extract the day as an integer\n",
    "    sum=0\n",
    "    for i in range(month+1,13):\n",
    "        sum=sum+numdaysinmonth(i,year)\n",
    "    sum+=(numdaysinmonth(month,year)-day+1)    \n",
    "    return sum\n",
    "    \n",
    "datedifference('0001:12:28','0003:12:28')"
   ]
  },
  {
   "cell_type": "code",
   "execution_count": 5,
   "metadata": {},
   "outputs": [
    {
     "name": "stdout",
     "output_type": "stream",
     "text": [
      "365 days, 0:00:00\n"
     ]
    }
   ],
   "source": [
    "from datetime import date,datetime\n",
    "def datedifference1(date1,date2):\n",
    "    year1=yearfromdate(date1) ##extract year as an integer\n",
    "    month1=monthfromdate(date1) ##extract the month as an integer\n",
    "    day1=daysfromdate(date1)\n",
    "    year2=yearfromdate(date2) ##extract year as an integer\n",
    "    month2=monthfromdate(date2) ##extract the month as an integer\n",
    "    day2=daysfromdate(date2)\n",
    "    d1=date(year=year1,month=month1,day=day1)\n",
    "    d2=date(year=year2,month=month2,day=day2)\n",
    "    print(d2-d1)\n",
    "    return\n",
    "datedifference1('0001:01:28','0002:01:28')"
   ]
  },
  {
   "cell_type": "markdown",
   "metadata": {},
   "source": [
    "### Problem 2:- \n",
    "### Problem Statement:- \n",
    "Define a function to validate email addresses based on the following rules.\n",
    "\n",
    "### Explanation:-\n",
    "* Email should be in the format username@domain.extension\n",
    "* username must start with an alphabet and can contain lowercase alphabet, digits, hyphen(-) and underscores( _ ).\n",
    "* username must not contain special characters, uppercase letters, whitespaces.\n",
    "* Length of username must be in the range (6, 16)\n",
    "* Domain can only contain lowercase alphabet and digits with length in range (3, 10).\n",
    "* No special characters are allowed\n",
    "* Extension can only contain lower case alphabet and its length must be in the range (2, 4)\n",
    "### Test Cases:-\n",
    "* abc456@gmail.com -> Valid\n",
    "* 456abc@yahoo.com -> Invalid\n",
    "* abc_456@gitam.ed1 -> Invalid\n",
    "* abc-456@abc-d.in -> Invalid\n",
    "* python@python.edu -> valid  \n",
    "* abc 456@edu.edu -> Invalid"
   ]
  },
  {
   "cell_type": "code",
   "execution_count": 57,
   "metadata": {},
   "outputs": [
    {
     "data": {
      "text/plain": [
       "'valid'"
      ]
     },
     "execution_count": 57,
     "metadata": {},
     "output_type": "execute_result"
    }
   ],
   "source": [
    "def check(x):\n",
    "    count=1\n",
    "    count1=0\n",
    "    count2=0\n",
    "    if (x[0]>='a' and x[0]<='z'):\n",
    "        i=1\n",
    "        while(x[i]!='@'):\n",
    "            count=count+1\n",
    "            if(x[i]>='0' and x[i]<='9') or (x[i]>='a' and x[i]<='z') or x[i]=='_' or x[i]=='-':\n",
    "                print(end='')\n",
    "            else:\n",
    "                return 'invalid'\n",
    "            i=i+1\n",
    "        if(count<6 or count>16):\n",
    "            return 'invalid'\n",
    "        i=count+1\n",
    "        while x[i]!='.':\n",
    "            count1=count1+1\n",
    "            if(x[i]>='0'and x[i]<='9') or (x[i]>='a' and x[i]<='z'):\n",
    "                print(end='')\n",
    "            else:\n",
    "                return 'invalid'\n",
    "            i=i+1\n",
    "        if count1<3 or count1>10:\n",
    "            return 'invalid'\n",
    "        for i in range(count1+count+2,len(x)):\n",
    "            count2=count2+1\n",
    "            if x[i]>='a' and x[i]<='z':\n",
    "                print(end='')\n",
    "            else:\n",
    "                 return 'invalid'\n",
    "        if count2<2 or count2>4:\n",
    "            return 'invalid'\n",
    "        return 'valid'\n",
    "    else:\n",
    "        return 'invalid'\n",
    "def checkmail(n):\n",
    "    for i in range(1,n+1):\n",
    "        x=input(\"enter email id\")\n",
    "        if check(x)=='invalid':\n",
    "            print('invalid')\n",
    "        else:\n",
    "            print('valid')\n",
    "check('m12345@gmail.com')"
   ]
  },
  {
   "cell_type": "code",
   "execution_count": null,
   "metadata": {},
   "outputs": [],
   "source": []
  }
 ],
 "metadata": {
  "kernelspec": {
   "display_name": "Python 3",
   "language": "python",
   "name": "python3"
  },
  "language_info": {
   "codemirror_mode": {
    "name": "ipython",
    "version": 3
   },
   "file_extension": ".py",
   "mimetype": "text/x-python",
   "name": "python",
   "nbconvert_exporter": "python",
   "pygments_lexer": "ipython3",
   "version": "3.7.3"
  }
 },
 "nbformat": 4,
 "nbformat_minor": 2
}
